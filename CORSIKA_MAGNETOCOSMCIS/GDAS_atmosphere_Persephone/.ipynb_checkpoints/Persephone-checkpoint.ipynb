{
 "cells": [
  {
   "cell_type": "markdown",
   "metadata": {},
   "source": [
    "# Persephone"
   ]
  },
  {
   "cell_type": "markdown",
   "metadata": {},
   "source": [
    "**PLEASE READ THIS NOTEBOOK IN ITS ENTIRETY BEFORE RUNNING**\n",
    "\n",
    "This notebook facilitates the creation of a *gdastool* type of atmospheric profile for being used in CORSIKA simulations. Instead of just runninig *gdastool* to obtain a single atmospheric profile for a specific time and date, this code creates an **average** monthly profile.\n",
    "\n",
    "It consists of **2 blocks** as follows:\n",
    "\n",
    "- **Block 1** uses *gdastool* to create atmospheric profiles throughout the month chosen by the user, two profiles per day.\n",
    "- **Block 2** uses all the profiles created on block 1 and creates an average atmospheric profile for the given month. This profile is a **.dat** file that can be input in a CORSIKA simulation."
   ]
  },
  {
   "cell_type": "markdown",
   "metadata": {},
   "source": [
    "## Requisites"
   ]
  },
  {
   "cell_type": "markdown",
   "metadata": {},
   "source": [
    "For this code to work, the user must download the directory called **scripts**, where the scripts used to create the atmospheric profile are found. These are:\n",
    "\n",
    "- **gdastool**, a *Python* program normally included with newer veresions of CORSIKA, specifically designed to create CORSIKA atmospheric profiles based on data from the **Global Data Assimilation System**.\n",
    "- **primera_parte.C** and **segunda_parte.C** are *root* based scripts that will create one single monthly-average atmospheric profile using all the individual profiles preveiously created throughout the chosen month.\n",
    "\n",
    "The computer where this notebook is to be run must have **CERN's ROOT** built in it, since the *.C* scripts need it to work. Check out the official web page to learn how to download and build ROOT: https://root.cern.ch/building-root. The environment must be correctly setup before running this notebook. To do this, follow the instructions given on the web page, on the *Quick Start* section."
   ]
  },
  {
   "cell_type": "code",
   "execution_count": null,
   "metadata": {},
   "outputs": [],
   "source": [
    "# These are the libraries that will be needed to run the notebook\n",
    "\n",
    "import subprocess\n",
    "import numpy as np\n",
    "import time\n",
    "from datetime import datetime\n",
    "from datetime import timezone"
   ]
  },
  {
   "cell_type": "code",
   "execution_count": null,
   "metadata": {
    "scrolled": true
   },
   "outputs": [],
   "source": [
    "# First, the user must input the path to the scripts directory\n",
    "\n",
    "print(\"Please, write down the path to the scripts directory from the home folder. It must end in '/scripts' without a '/' at the end.\")\n",
    "path2Scripts = input(\"The path to the scripts directory from home folder is: ~/\")"
   ]
  },
  {
   "cell_type": "markdown",
   "metadata": {},
   "source": [
    "## Block 1 - GDASTOOL"
   ]
  },
  {
   "cell_type": "markdown",
   "metadata": {},
   "source": [
    "CORSIKA uses atmospheric density profiles to calculate the probability of interactions throughout the showers. Density is modeled by dividing the atmosphere in 5 layeres, describing each one of them with the following equations:\n",
    "\n",
    "- For the first 4 layers: $$T(h)=a_i+b_ie^{\\frac{-h}{c_i}} \\quad i=1,2,3,4$$\n",
    "- For the fifth layer: $$T(h)=a_5-b_5\\frac{h}{c_5}$$\n",
    "\n",
    "Here, *T(h)* is the atmospheric density at height *h*, and *a*, *b* and *c* are parameters specific to each layer.\n",
    "\n",
    "In this notebook, we use the Python program *gdastool* to generate an output file called *Atmosphere.dat*, readable by CORSIKA, containing all the information about the layer division, the parameters *a*, *b* and *c*, as well as a tabulated altitude profile of the atmospheric refractive index.\n",
    "\n",
    "*gdastool* mainly takes as input the geographic coordinates of the place where the simulation is to take place (latitude and longitude), and a UTC timestamp. The coordinates are rounded to the nearest 1x1 degree grid point, and the timestamp is rounded to the nearest 3-hour time in GDAS."
   ]
  },
  {
   "cell_type": "markdown",
   "metadata": {},
   "source": [
    "To use *gdastool*, this next section will ask the user to write the inputs needed: geographic coordinates (in decimal degrees) and a date and UTC time, which will later be converted to a UTC timestamp."
   ]
  },
  {
   "cell_type": "code",
   "execution_count": null,
   "metadata": {
    "scrolled": false
   },
   "outputs": [],
   "source": [
    "# First, we ask the user to introduce the geographic coordinates\n",
    "print(\"\"\"Please write the geographic coordinates of the place for simulation in decimal degrees.\n",
    "For example, coordinates for the White House would be written like this:\n",
    "Latitude: 38.8978\n",
    "Longitude: -77.0364\"\"\")\n",
    "lat = input(\"Latitude (dd.dddd): \")\n",
    "long = input(\"Longitude (dd.dddd): \")\n",
    "\n",
    "# Then, the user must write the date and time\n",
    "print(\"Now please provide the date (month and year) of simulation for the creation of the atmospheric profile.\")\n",
    "month, year = input(\"Date (mm/yyyy): \").split(\"/\")\n",
    "\n",
    "# Then, the user must write the timezone used on the place where the simulation is to take place.\n",
    "print(\"Now please provide the timezone used on the location at the time of simulation. For example, Colombia uses UTC-5\")\n",
    "simuTimezone = input(\"Timezone: UTC\")\n",
    "\n",
    "# Date values must be converted from str to integers\n",
    "year, month = int(year), int(month)\n",
    "\n",
    "# The timezone value must be converted to an integer\n",
    "simuTimezone = int(simuTimezone)\n",
    "\n",
    "# Latitude and longitude values must be converted from str to float\n",
    "lat, long = float(lat), float(long)"
   ]
  },
  {
   "cell_type": "markdown",
   "metadata": {},
   "source": [
    "Instead of just using a GDAS atmospheric profile for a specific time, this code creates an average atmospheric profile for the given month. The way it works is as follows:\n",
    "- First, it determines the timestamps for the frist day of the given month in the given year at midnight on the given timezone.\n",
    "- Then, it creates a series of atmospheric profiles, every 12 hours, starting from the aforementioned timestamp and ending on the last day of the given month, at noon on the given timezone.\n",
    "\n",
    "In other words, this code creates an atmospheric profile on the given location twice a day (at midnight and noon) throughout the whole month given by the user, for a total of 62 atmospheric profiles (if the month has 31 days) or 60, 58 or 56 (if the month has 30, 29 or 28 days, respectively)."
   ]
  },
  {
   "cell_type": "code",
   "execution_count": null,
   "metadata": {},
   "outputs": [],
   "source": [
    "# These lines determine the number of the days the given month has, and create the starting and finishing dates.\n",
    "\n",
    "firstDay = 1\n",
    "\n",
    "if month in (1,3,5,7,8,10,12):\n",
    "    lastDay = 31\n",
    "\n",
    "elif month in (4,6,9,11):\n",
    "    lastDay = 30\n",
    "\n",
    "elif month == 2:\n",
    "    if year%4 != 0 or (year%100 == 0 and year%400 != 0):\n",
    "        lastDay = 28\n",
    "    elif year%400 == 0 or (year%4 == 0 and year%100 != 0):\n",
    "        lastDay = 29\n",
    "\n",
    "startTime = datetime(year,month,firstDay,0,0)\n",
    "finishTime = datetime(year,month,lastDay,12,0)"
   ]
  },
  {
   "cell_type": "markdown",
   "metadata": {},
   "source": [
    "Since *gdastool* takes a UTC timestamp as input, the date and time given by the user must be converted to that."
   ]
  },
  {
   "cell_type": "code",
   "execution_count": null,
   "metadata": {},
   "outputs": [],
   "source": [
    "# This part takes the date and time given by the user and converts them to a UTC timestamp\n",
    "\n",
    "utc_time1 = startTime.replace(tzinfo = timezone.utc)\n",
    "utc_timestamp1 = int(utc_time1.timestamp())-3600*simuTimezone\n",
    "\n",
    "utc_time2 = finishTime.replace(tzinfo = timezone.utc)\n",
    "utc_timestamp2 = int(utc_time2.timestamp())-3600*simuTimezone\n",
    "\n",
    "print(utc_timestamp1,utc_timestamp2)"
   ]
  },
  {
   "cell_type": "markdown",
   "metadata": {},
   "source": [
    "To create the series of atmospheric profiles, this next cell creates a file called *GDASrunner.sh* containing a bash script that will run GDAS with the specified inputs given by the user.\n",
    "\n",
    "This next cell will also create a few more bash scripts for managing the files (copying, pasting and moving the files automatically)."
   ]
  },
  {
   "cell_type": "code",
   "execution_count": null,
   "metadata": {},
   "outputs": [],
   "source": [
    "# This part creates the file 'GDASrunner.sh' that will create the series of atmospheric profiles\n",
    "GDASrunner = open(\"GDASrunner.sh\", \"w\")\n",
    "GDASrunner.write('#!/bin/bash\\n')\n",
    "GDASrunner.write('echo Corriendo gdastool...\\n')\n",
    "GDASrunner.write('for i in {'+str(utc_timestamp1)+'..'+str(utc_timestamp2)+'..43200}; do python3 ~/'+path2Scripts+'/gdastool -t $i -o Atm_$i.dat -c '+str(lat)+' '+str(long)+' -p gdas_path\\n')\n",
    "GDASrunner.write('\\techo Creando perfiles para la UNIXTIME: $i\\n')\n",
    "GDASrunner.write('\\tsleep 1m\\n')\n",
    "GDASrunner.write('\\techo Perfil para $i terminado...\\n')\n",
    "GDASrunner.write('done')\n",
    "GDASrunner.close()\n",
    "\n",
    "#This part creates a bash script that copies the scripts that create the average profile into the current folder\n",
    "copy2Folder = open(\"copy2Folder.sh\", \"w\")\n",
    "copy2Folder.write('#!/bin/bash\\n')\n",
    "copy2Folder.write('cp ~/'+path2Scripts+'/primera_parte.C .\\n')\n",
    "copy2Folder.write('cp ~/'+path2Scripts+'/segunda_parte.C .\\n')\n",
    "copy2Folder.close()\n",
    "\n",
    "#This part creates a script that combines the two average files into one.\n",
    "paste = open(\"paste.sh\", \"w\")\n",
    "paste.write('#!/bin/bash\\n')\n",
    "paste.write('cat primera_parte.txt segunda_parte.txt > Atm_'+str(month)+'_'+str(year)+'.dat\\n')\n",
    "paste.close()\n",
    "\n",
    "#This part creates a script that moves the atmospheric profiles into one folder and gets rid of all the\n",
    "#files that aren't necessary anymore.\n",
    "copy2Folder2 = open(\"copy2Folder2.sh\", \"w\")\n",
    "copy2Folder2.write('#!/bin/bash\\n')\n",
    "copy2Folder2.write('mkdir '+str(month)+'_'+str(year)+'\\n')\n",
    "copy2Folder2.write('rm primera_parte.C\\n')\n",
    "copy2Folder2.write('rm segunda_parte.C\\n')\n",
    "copy2Folder2.write('rm primera_parte.txt\\n')\n",
    "copy2Folder2.write('rm segunda_parte.txt\\n')\n",
    "copy2Folder2.write('rm copy2Folder.sh\\n')\n",
    "copy2Folder2.write('rm paste.sh\\n')\n",
    "copy2Folder2.write('rm GDASrunner.sh\\n')\n",
    "copy2Folder2.write('for i in {'+str(utc_timestamp1)+'..'+str(utc_timestamp2)+'..43200}; do mv Atm_$i.dat ./'+str(month)+'_'+str(year)+'/\\n')\n",
    "copy2Folder2.write('done')\n",
    "copy2Folder2.close()"
   ]
  },
  {
   "cell_type": "markdown",
   "metadata": {},
   "source": [
    "With the required inputs given by the user, this next section executes *GDASrunner.sh*."
   ]
  },
  {
   "cell_type": "code",
   "execution_count": null,
   "metadata": {},
   "outputs": [],
   "source": [
    "# This part runs the GDASrunner.sh script that runs gdastool multiple times to create the series of atm. profiles\n",
    "runGDAS = subprocess.run([\"bash\", \"GDASrunner.sh\"])"
   ]
  },
  {
   "cell_type": "markdown",
   "metadata": {},
   "source": [
    "## Block 2 - Average profile"
   ]
  },
  {
   "cell_type": "markdown",
   "metadata": {},
   "source": [
    "Once all the files have been moved, this block will use them to create a single average atmospheric profile. This part uses the C++ scripts called *primera_parte.C* and *segunda_parte.C*. The validity of CORSIKA simulations using this monthly-average atmspheric profile has been proven as shown in [the work of Jenifer Grisales](https://github.com/jennifergc/Tesis_Pregrado).\n",
    "\n",
    "For this block to work, please make sure the ROOT environment is setup beforehand, i. e. the command *root* should be recognised by the same Terminal used to run this notebook."
   ]
  },
  {
   "cell_type": "code",
   "execution_count": null,
   "metadata": {},
   "outputs": [],
   "source": [
    "# This part will use the scripts created above to create one single average atmospheric profile\n",
    "\n",
    "runCopy = subprocess.run([\"bash\", \"copy2Folder.sh\"])\n",
    "runFirstHalf = subprocess.run([\"root\", \"primera_parte.C\"])\n",
    "runsecondHalf = subprocess.run([\"root\", \"segunda_parte.C\"])\n",
    "paste = subprocess.run([\"bash\", \"paste.sh\"])\n",
    "\n",
    "#This final part does some cleaning. It gets rid of unnecessary files and moves all the individual atmospheric\n",
    "#profiles into one folder\n",
    "move = subprocess.run ([\"bash\", \"copy2Folder2.sh\"])\n",
    "rm = subprocess.run([\"rm\", \"copy2Folder2.sh\"])"
   ]
  },
  {
   "cell_type": "markdown",
   "metadata": {},
   "source": [
    "The resulting file is called **Atm_mm_yyyy.dat**, where mm and yyyy are the month and year chosen by the user, respectively. That file is the average of all the other atmospheric profiles created throughout the whole month, two per day. **Atm_mm_yyyy.dat** can be directly used as input for CORSIKA-76400 simulations."
   ]
  }
 ],
 "metadata": {
  "kernelspec": {
   "display_name": "Python 3",
   "language": "python",
   "name": "python3"
  },
  "language_info": {
   "codemirror_mode": {
    "name": "ipython",
    "version": 3
   },
   "file_extension": ".py",
   "mimetype": "text/x-python",
   "name": "python",
   "nbconvert_exporter": "python",
   "pygments_lexer": "ipython3",
   "version": "3.8.3"
  }
 },
 "nbformat": 4,
 "nbformat_minor": 4
}
